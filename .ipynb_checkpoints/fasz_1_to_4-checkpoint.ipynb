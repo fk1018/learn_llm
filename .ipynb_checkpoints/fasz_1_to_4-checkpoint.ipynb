{
 "cells": [
  {
   "cell_type": "markdown",
   "id": "47f6faea-2598-4dd8-93eb-bd6b89729754",
   "metadata": {},
   "source": [
    "# Query Translation\n",
    "- Translate the question into a form that is better suited for retrieval\n",
    "- Question -> 🧠 -> Re-phase, break-down, abstract, convert to hypotethical docs\n",
    "    - **Multi-query**: Generates multiple variations of the query to maximize the chances of retrieving relevant results from the database.\n",
    "    - **RAG-Fusion**: Combines outputs from multiple retrieval strategies or sources to improve the final result.\n",
    "    - **Decomposition**: Breaks down complex queries into simpler sub-queries that are easier to retrieve answers for.\n",
    "    - **Step-back**: Revisits the query or refines it if initial retrieval fails, potentially using feedback from the system.\n",
    "    - **HyDE (Hypothetical Document Embeddings)**: Converts the query into hypothetical documents or summaries to guide retrieval."
   ]
  }
 ],
 "metadata": {
  "kernelspec": {
   "display_name": "Python 3 (ipykernel)",
   "language": "python",
   "name": "python3"
  },
  "language_info": {
   "codemirror_mode": {
    "name": "ipython",
    "version": 3
   },
   "file_extension": ".py",
   "mimetype": "text/x-python",
   "name": "python",
   "nbconvert_exporter": "python",
   "pygments_lexer": "ipython3",
   "version": "3.10.12"
  }
 },
 "nbformat": 4,
 "nbformat_minor": 5
}
